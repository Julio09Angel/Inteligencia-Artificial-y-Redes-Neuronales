{
  "nbformat": 4,
  "nbformat_minor": 0,
  "metadata": {
    "colab": {
      "provenance": []
    },
    "kernelspec": {
      "name": "python3",
      "display_name": "Python 3"
    },
    "language_info": {
      "name": "python"
    }
  },
  "cells": [
    {
      "cell_type": "markdown",
      "source": [
        "# **A3 Entrenamiento de Red Neuronal Artificial Simple**"
      ],
      "metadata": {
        "id": "5YPWD797Mior"
      }
    },
    {
      "cell_type": "markdown",
      "source": [
        "**Julio Angel Arias Bartolo**\n",
        "\n",
        "**1954467**\n",
        "\n",
        "**LMV-N1**"
      ],
      "metadata": {
        "id": "nUW4o6X9VDO3"
      }
    },
    {
      "cell_type": "markdown",
      "source": [
        "Una de las primeras acciones que debemos tomar para iniciar con el entrenamiento de una red neuronal artificial es la importación de las licrerias que utilizaremos."
      ],
      "metadata": {
        "id": "Mblv0YV9Mr3h"
      }
    },
    {
      "cell_type": "code",
      "execution_count": 4,
      "metadata": {
        "id": "I-lkB5wzENNd"
      },
      "outputs": [],
      "source": [
        "# Importar librerias\n",
        "# TensorFlow y tf.keras\n",
        "import tensorflow as tf\n",
        "from tensorflow import keras\n",
        "\n",
        "# Librerias de ayuda\n",
        "import numpy as np\n",
        "import matplotlib.pyplot as plt"
      ]
    },
    {
      "cell_type": "markdown",
      "source": [
        "Otra de las cosas necesarias que debemos relizar es acceder a los datos para importarlos ya que son necesarios, y dependiendo cómo lo entrenaremos es conforme obtendremos la cantidad de datos.\n",
        "\n",
        "La base de datos es llamada MNIST y es una base de datos que contiene 70 000 imágenes en las cuales se muestran diferentes números escritos a mano, que de la misma forma que la base de datos fashion_mnist son 60 000 imágenes de entrenamiento y 10 000 de prueba en un formato de 28 x 28 píxeles en una escala de gríses."
      ],
      "metadata": {
        "id": "GJhDeo85M3f5"
      }
    },
    {
      "cell_type": "code",
      "source": [
        "# Importar datos\n",
        "mnist = keras.datasets.mnist\n",
        "\n",
        "(train_images, train_labels), (test_images, test_labels) = mnist.load_data()"
      ],
      "metadata": {
        "id": "lKbRAhc2FTMB"
      },
      "execution_count": 14,
      "outputs": []
    },
    {
      "cell_type": "markdown",
      "source": [
        "Es necesario asignar las etiquetas en las cuales se clasifican."
      ],
      "metadata": {
        "id": "LK1FObNKNKZV"
      }
    },
    {
      "cell_type": "code",
      "source": [
        "class_names = ['Cero', 'Uno', 'Dos', 'Tres', 'Cuatro',\n",
        "               'Cinco', 'Seis', 'Siete', 'Ocho', 'Nueve']"
      ],
      "metadata": {
        "id": "rqutJNpCG9x1"
      },
      "execution_count": 13,
      "outputs": []
    },
    {
      "cell_type": "markdown",
      "source": [
        "**Set de imagenes de entrenamiento**"
      ],
      "metadata": {
        "id": "q8ym2EvHHIiB"
      }
    },
    {
      "cell_type": "markdown",
      "source": [
        "Aquí podemos ver la cantidad de imágenes disponibles para el entrenamiento y el tamaño de ellas."
      ],
      "metadata": {
        "id": "p54yGxfOOIEo"
      }
    },
    {
      "cell_type": "code",
      "source": [
        "train_images.shape"
      ],
      "metadata": {
        "colab": {
          "base_uri": "https://localhost:8080/"
        },
        "id": "MIdfy2tQGufz",
        "outputId": "982bd246-e1c2-40b8-8fc2-7135768323c0"
      },
      "execution_count": 9,
      "outputs": [
        {
          "output_type": "execute_result",
          "data": {
            "text/plain": [
              "(60000, 28, 28)"
            ]
          },
          "metadata": {},
          "execution_count": 9
        }
      ]
    },
    {
      "cell_type": "code",
      "source": [
        "len(train_labels)"
      ],
      "metadata": {
        "colab": {
          "base_uri": "https://localhost:8080/"
        },
        "id": "4NZ5S_l9G4Ui",
        "outputId": "631f647f-5a7c-4ad6-aa7d-6f00b0c49b0e"
      },
      "execution_count": 10,
      "outputs": [
        {
          "output_type": "execute_result",
          "data": {
            "text/plain": [
              "60000"
            ]
          },
          "metadata": {},
          "execution_count": 10
        }
      ]
    },
    {
      "cell_type": "code",
      "source": [
        "train_labels"
      ],
      "metadata": {
        "colab": {
          "base_uri": "https://localhost:8080/"
        },
        "id": "CAy2YzEiGxty",
        "outputId": "b4492a59-2980-4cb3-fb49-923e8f7e8deb"
      },
      "execution_count": 11,
      "outputs": [
        {
          "output_type": "execute_result",
          "data": {
            "text/plain": [
              "array([5, 0, 4, ..., 5, 6, 8], dtype=uint8)"
            ]
          },
          "metadata": {},
          "execution_count": 11
        }
      ]
    },
    {
      "cell_type": "markdown",
      "source": [
        "**Set de imagenes de prueba**"
      ],
      "metadata": {
        "id": "lW323W1QHTcw"
      }
    },
    {
      "cell_type": "markdown",
      "source": [
        "Se muestra la cantidad de imágenes de prueba que serán utilizadas para evaluar la capacidad de aprendizaje del modelo."
      ],
      "metadata": {
        "id": "0ubeb-3cOOy_"
      }
    },
    {
      "cell_type": "code",
      "source": [
        "test_images.shape"
      ],
      "metadata": {
        "colab": {
          "base_uri": "https://localhost:8080/"
        },
        "id": "sV1Bz9AqHWDw",
        "outputId": "10a0ea45-9d2a-47ed-bb29-e6b093dc843d"
      },
      "execution_count": 15,
      "outputs": [
        {
          "output_type": "execute_result",
          "data": {
            "text/plain": [
              "(10000, 28, 28)"
            ]
          },
          "metadata": {},
          "execution_count": 15
        }
      ]
    },
    {
      "cell_type": "code",
      "source": [
        "len(test_labels)"
      ],
      "metadata": {
        "colab": {
          "base_uri": "https://localhost:8080/"
        },
        "id": "XCclfiURHaD5",
        "outputId": "8a22b9bf-ab32-44ff-d48a-53a88cfe61ec"
      },
      "execution_count": 16,
      "outputs": [
        {
          "output_type": "execute_result",
          "data": {
            "text/plain": [
              "10000"
            ]
          },
          "metadata": {},
          "execution_count": 16
        }
      ]
    },
    {
      "cell_type": "markdown",
      "source": [
        "**Pre-Procesamiento**"
      ],
      "metadata": {
        "id": "3u-XIAg7HjMP"
      }
    },
    {
      "cell_type": "markdown",
      "source": [
        "El pre-procesamiento es realizado antes del entrenamiento en donde se incluye la normalización para después de eso pasar al entrenamiento."
      ],
      "metadata": {
        "id": "iL_CcaZZOcGR"
      }
    },
    {
      "cell_type": "code",
      "source": [
        "plt.figure()\n",
        "plt.imshow(train_images[0])\n",
        "plt.colorbar()\n",
        "plt.grid(False)\n",
        "plt.show()"
      ],
      "metadata": {
        "colab": {
          "base_uri": "https://localhost:8080/",
          "height": 430
        },
        "id": "hhXZAUMWHlk-",
        "outputId": "543eb745-7896-4ce8-a4f7-20a91782f794"
      },
      "execution_count": 17,
      "outputs": [
        {
          "output_type": "display_data",
          "data": {
            "text/plain": [
              "<Figure size 640x480 with 2 Axes>"
            ],
            "image/png": "[encoded data removed]"
          },
          "metadata": {}
        }
      ]
    },
    {
      "cell_type": "code",
      "source": [
        "# Normalizar los valores\n",
        "train_images = train_images / 255.0\n",
        "\n",
        "test_images = test_images / 255.0"
      ],
      "metadata": {
        "id": "Q11c33FPHvoh"
      },
      "execution_count": 18,
      "outputs": []
    },
    {
      "cell_type": "markdown",
      "source": [
        "Podemos desplegar una cantidad de imágenes solamente para verlas con las etiquetas correspondientes a cada número."
      ],
      "metadata": {
        "id": "_dofd6G2Otmu"
      }
    },
    {
      "cell_type": "code",
      "source": [
        "# Desplegar las primeras 25 imagenes\n",
        "plt.figure(figsize=(10,10))\n",
        "for i in range(25):\n",
        "    plt.subplot(5,5,i+1)\n",
        "    plt.xticks([])\n",
        "    plt.yticks([])\n",
        "    plt.grid(False)\n",
        "    plt.imshow(train_images[i], cmap=plt.cm.binary)\n",
        "    plt.xlabel(class_names[train_labels[i]])\n",
        "plt.show()"
      ],
      "metadata": {
        "colab": {
          "base_uri": "https://localhost:8080/",
          "height": 826
        },
        "id": "MGtESzk1H28h",
        "outputId": "b6b65292-5551-42fc-e284-c6acddc57bb0"
      },
      "execution_count": 19,
      "outputs": [
        {
          "output_type": "display_data",
          "data": {
            "text/plain": [
              "<Figure size 1000x1000 with 25 Axes>"
            ],
            "image/png": "[encoded data removed]"
          },
          "metadata": {}
        }
      ]
    },
    {
      "cell_type": "markdown",
      "source": [
        "# Construir el modelo\n"
      ],
      "metadata": {
        "id": "57g_JOtQIT_w"
      }
    },
    {
      "cell_type": "markdown",
      "source": [
        "Ahora sí podemos comenzar a seleccionar el modelo con el que vamos a trabajar y las especificaciones que necesitamos en este modelo."
      ],
      "metadata": {
        "id": "DHHHluj-O-ZM"
      }
    },
    {
      "cell_type": "markdown",
      "source": [
        "**Configurar capas**"
      ],
      "metadata": {
        "id": "2nVWdLmvO9ac"
      }
    },
    {
      "cell_type": "markdown",
      "source": [
        "La configuración de las capas a utilizar serán solamente 3, ya que es una red neuronal simple, en la cual tenemos el aplanamiento de las imágenes del tamaño 28x28, luego tenemos la capa intermedia con una densidad de 128 neuronas y por último la capa de salida con una cantidad de 10 neuronas, las cuales cada una corresponde a una categoría, es decir un número del 0 al 9."
      ],
      "metadata": {
        "id": "W8QNiIGUPKck"
      }
    },
    {
      "cell_type": "code",
      "source": [
        "model = keras.Sequential([\n",
        "    keras.layers.Flatten(input_shape=(28, 28)),\n",
        "    keras.layers.Dense(128, activation='relu'),\n",
        "    keras.layers.Dense(10, activation='softmax')\n",
        "])"
      ],
      "metadata": {
        "id": "YkW6SPK2IcMA"
      },
      "execution_count": 20,
      "outputs": []
    },
    {
      "cell_type": "markdown",
      "source": [
        "**Compilación del modelo**"
      ],
      "metadata": {
        "id": "Oj05xoqXI4hn"
      }
    },
    {
      "cell_type": "markdown",
      "source": [
        "En la compilación del modelo se presentan los 2 parámetros que serán fundamentales al entrenamiento de la red neuronal artificial, la función de pérdida y la exáctitud dentro del entrenamiento."
      ],
      "metadata": {
        "id": "dSh0eSfFPwb1"
      }
    },
    {
      "cell_type": "code",
      "source": [
        "model.compile(optimizer='adam',\n",
        "              loss='sparse_categorical_crossentropy',\n",
        "              metrics=['accuracy'])"
      ],
      "metadata": {
        "id": "TxRQAjUFI6nD"
      },
      "execution_count": 21,
      "outputs": []
    },
    {
      "cell_type": "markdown",
      "source": [
        "**Entrenar modelo**"
      ],
      "metadata": {
        "id": "XQiVPrJbI-M5"
      }
    },
    {
      "cell_type": "markdown",
      "source": [
        "En este punto, es la parte fundamental, es donde seleccionamos la cantidad de épocas que deseamos entrenar, y procedemos con el entrenamiento de la red neuronal artificial simple."
      ],
      "metadata": {
        "id": "hSwoyPAeQGsD"
      }
    },
    {
      "cell_type": "code",
      "source": [
        "model.fit(train_images, train_labels, epochs=5)"
      ],
      "metadata": {
        "colab": {
          "base_uri": "https://localhost:8080/"
        },
        "id": "NdCzOd8oJAOt",
        "outputId": "6c0433de-6821-4f4f-a4e1-1e1da914f9df"
      },
      "execution_count": 39,
      "outputs": [
        {
          "output_type": "stream",
          "name": "stdout",
          "text": [
            "Epoch 1/5\n",
            "1875/1875 [==============================] - 5s 3ms/step - loss: 0.0141 - accuracy: 0.9957\n",
            "Epoch 2/5\n",
            "1875/1875 [==============================] - 5s 2ms/step - loss: 0.0121 - accuracy: 0.9962\n",
            "Epoch 3/5\n",
            "1875/1875 [==============================] - 5s 3ms/step - loss: 0.0105 - accuracy: 0.9966\n",
            "Epoch 4/5\n",
            "1875/1875 [==============================] - 5s 2ms/step - loss: 0.0093 - accuracy: 0.9972\n",
            "Epoch 5/5\n",
            "1875/1875 [==============================] - 5s 3ms/step - loss: 0.0086 - accuracy: 0.9969\n"
          ]
        },
        {
          "output_type": "execute_result",
          "data": {
            "text/plain": [
              "<keras.callbacks.History at 0x7fd50238db70>"
            ]
          },
          "metadata": {},
          "execution_count": 39
        }
      ]
    },
    {
      "cell_type": "markdown",
      "source": [
        "**Evaluar exactitud**"
      ],
      "metadata": {
        "id": "R9cafD5yJbje"
      }
    },
    {
      "cell_type": "markdown",
      "source": [
        "A continuación se pregunta la presición que tuvo el modelo en base a las imágenes del test para poder comparar la presición en el entrenamiento y la presición en la prueba y comparar los resultados para ver si nuestro modelo no se encuentra sobreajustado."
      ],
      "metadata": {
        "id": "Fc8Q7pXAQfK0"
      }
    },
    {
      "cell_type": "code",
      "source": [
        "test_loss, test_acc = model.evaluate(test_images,  test_labels, verbose=2)\n",
        "\n",
        "print('\\nTest accuracy:', test_acc)"
      ],
      "metadata": {
        "colab": {
          "base_uri": "https://localhost:8080/"
        },
        "id": "RH6qXEG7JeJU",
        "outputId": "ca1b50b4-dbb8-47d2-b067-5fa901f38e14"
      },
      "execution_count": 40,
      "outputs": [
        {
          "output_type": "stream",
          "name": "stdout",
          "text": [
            "313/313 - 0s - loss: 0.0951 - accuracy: 0.9793 - 372ms/epoch - 1ms/step\n",
            "\n",
            "Test accuracy: 0.9793000221252441\n"
          ]
        }
      ]
    },
    {
      "cell_type": "markdown",
      "source": [
        "**Hacer predicciones**"
      ],
      "metadata": {
        "id": "vgkT1gv7JiXE"
      }
    },
    {
      "cell_type": "markdown",
      "source": [
        "Ya una vez que se realizó el entrenamiento se pueden hacer las predicciones que sean necesarias para corroborar la exactitud del modelo."
      ],
      "metadata": {
        "id": "7mthN4FfRTut"
      }
    },
    {
      "cell_type": "code",
      "source": [
        "predictions = model.predict(test_images)"
      ],
      "metadata": {
        "colab": {
          "base_uri": "https://localhost:8080/"
        },
        "id": "lSk_vQphJlOM",
        "outputId": "583cc8d8-0bbb-4a55-8223-16cb33667449"
      },
      "execution_count": 41,
      "outputs": [
        {
          "output_type": "stream",
          "name": "stdout",
          "text": [
            "313/313 [==============================] - 1s 2ms/step\n"
          ]
        }
      ]
    },
    {
      "cell_type": "markdown",
      "source": [
        "Podemos realizar una predicción dentro de la cantidad de imágenes de prueba que tenemos disponibles en donde a continuación podemos ver una de ellas."
      ],
      "metadata": {
        "id": "mxPn-A57R7nU"
      }
    },
    {
      "cell_type": "code",
      "source": [
        "predictions[1954]"
      ],
      "metadata": {
        "colab": {
          "base_uri": "https://localhost:8080/"
        },
        "id": "x3dAZXNDKWfe",
        "outputId": "6d7d1721-2601-48c2-a5e5-dfc38aa31369"
      },
      "execution_count": 50,
      "outputs": [
        {
          "output_type": "execute_result",
          "data": {
            "text/plain": [
              "array([4.7938592e-15, 3.8494016e-16, 7.0480221e-13, 1.9662100e-08,\n",
              "       1.7671202e-07, 9.9994916e-01, 7.6393562e-06, 2.5511865e-11,\n",
              "       3.8087874e-05, 4.7841713e-06], dtype=float32)"
            ]
          },
          "metadata": {},
          "execution_count": 50
        }
      ]
    },
    {
      "cell_type": "markdown",
      "source": [
        "Notamos que la predicción con un número mayor es la que se encuentra en la posición 6 del arreglo, la cual corresponde a la etiqueta del número 5 ya que recordemos que comienzan las etiquetas desde el número 0 hasta llegar al 9."
      ],
      "metadata": {
        "id": "lrgY4Wj1SJgl"
      }
    },
    {
      "cell_type": "markdown",
      "source": [
        "Abajo vemos lo que nos arroja el resultado de la predicción."
      ],
      "metadata": {
        "id": "-tyNfsfbShbZ"
      }
    },
    {
      "cell_type": "code",
      "source": [
        "np.argmax(predictions[1954])"
      ],
      "metadata": {
        "colab": {
          "base_uri": "https://localhost:8080/"
        },
        "id": "IQXEVbpaKY2G",
        "outputId": "c3b65bdc-939e-4de6-973a-d24c57c269ed"
      },
      "execution_count": 45,
      "outputs": [
        {
          "output_type": "execute_result",
          "data": {
            "text/plain": [
              "5"
            ]
          },
          "metadata": {},
          "execution_count": 45
        }
      ]
    },
    {
      "cell_type": "markdown",
      "source": [
        "Y después comparamos con el valor correcto etiquetado en la correspondiente imagen."
      ],
      "metadata": {
        "id": "fK5Y6_87SloS"
      }
    },
    {
      "cell_type": "code",
      "source": [
        "test_labels[1954]"
      ],
      "metadata": {
        "colab": {
          "base_uri": "https://localhost:8080/"
        },
        "id": "UmKJlJfnKkrY",
        "outputId": "2500c8e0-4eea-4f57-e4e9-309e07eb6d7e"
      },
      "execution_count": 46,
      "outputs": [
        {
          "output_type": "execute_result",
          "data": {
            "text/plain": [
              "5"
            ]
          },
          "metadata": {},
          "execution_count": 46
        }
      ]
    },
    {
      "cell_type": "markdown",
      "source": [
        "**Graficación de la imagen con su etiqueta**"
      ],
      "metadata": {
        "id": "m-wwLyG2Kxq_"
      }
    },
    {
      "cell_type": "markdown",
      "source": [
        "Una forma muy cómoda de ver si nuestro modelo ha hecho una buena predicción es haciendo un análisis visual de algunas imágenes con sus gráficas de predicción."
      ],
      "metadata": {
        "id": "AMqHy_MPSvKL"
      }
    },
    {
      "cell_type": "code",
      "source": [
        "def plot_image(i, predictions_array, true_label, img):\n",
        "  predictions_array, true_label, img = predictions_array, true_label[i], img[i]\n",
        "  plt.grid(False)\n",
        "  plt.xticks([])\n",
        "  plt.yticks([])\n",
        "\n",
        "  plt.imshow(img, cmap=plt.cm.binary)\n",
        "\n",
        "  predicted_label = np.argmax(predictions_array)\n",
        "  if predicted_label == true_label:\n",
        "    color = 'blue'\n",
        "  else:\n",
        "    color = 'red'\n",
        "\n",
        "  plt.xlabel(\"{} {:2.0f}% ({})\".format(class_names[predicted_label],\n",
        "                                100*np.max(predictions_array),\n",
        "                                class_names[true_label]),\n",
        "                                color=color)\n",
        "\n",
        "def plot_value_array(i, predictions_array, true_label):\n",
        "  predictions_array, true_label = predictions_array, true_label[i]\n",
        "  plt.grid(False)\n",
        "  plt.xticks(range(10))\n",
        "  plt.yticks([])\n",
        "  thisplot = plt.bar(range(10), predictions_array, color=\"#777777\")\n",
        "  plt.ylim([0, 1])\n",
        "  predicted_label = np.argmax(predictions_array)\n",
        "\n",
        "  thisplot[predicted_label].set_color('red')\n",
        "  thisplot[true_label].set_color('blue')"
      ],
      "metadata": {
        "id": "ThWNs2LKK3A0"
      },
      "execution_count": 51,
      "outputs": []
    },
    {
      "cell_type": "markdown",
      "source": [
        "A continuación vemos 2 de las imágenes de prueba con sus respectivas gráficas de predicción."
      ],
      "metadata": {
        "id": "w0O6z4rmTBD6"
      }
    },
    {
      "cell_type": "code",
      "source": [
        "i = 1954\n",
        "plt.figure(figsize=(6,3))\n",
        "plt.subplot(1,2,1)\n",
        "plot_image(i, predictions[i], test_labels, test_images)\n",
        "plt.subplot(1,2,2)\n",
        "plot_value_array(i, predictions[i],  test_labels)\n",
        "plt.show()"
      ],
      "metadata": {
        "colab": {
          "base_uri": "https://localhost:8080/",
          "height": 291
        },
        "id": "8JuGKEykK7sR",
        "outputId": "5f0ee1f4-198b-4ed4-bc93-71c94dd278bf"
      },
      "execution_count": 52,
      "outputs": [
        {
          "output_type": "display_data",
          "data": {
            "text/plain": [
              "<Figure size 600x300 with 2 Axes>"
            ],
            "image/png": "[encoded data removed]"
          },
          "metadata": {}
        }
      ]
    },
    {
      "cell_type": "code",
      "source": [
        "i = 1267\n",
        "plt.figure(figsize=(6,3))\n",
        "plt.subplot(1,2,1)\n",
        "plot_image(i, predictions[i], test_labels, test_images)\n",
        "plt.subplot(1,2,2)\n",
        "plot_value_array(i, predictions[i],  test_labels)\n",
        "plt.show()"
      ],
      "metadata": {
        "colab": {
          "base_uri": "https://localhost:8080/",
          "height": 291
        },
        "id": "2ykmfry3LASJ",
        "outputId": "e4cef1b8-ffc4-4583-a851-9529d2edaa3d"
      },
      "execution_count": 49,
      "outputs": [
        {
          "output_type": "display_data",
          "data": {
            "text/plain": [
              "<Figure size 600x300 with 2 Axes>"
            ],
            "image/png": "[encoded data removed]"
          },
          "metadata": {}
        }
      ]
    },
    {
      "cell_type": "markdown",
      "source": [
        "Aquí podemos ver una sección más amplia de imágenes, en concreto de 15 imágenes con su gráfica de predicción en lo cual podemos estar seguros que cada una corresponde con su respectiva imágen."
      ],
      "metadata": {
        "id": "hra4Bk8mTKum"
      }
    },
    {
      "cell_type": "code",
      "source": [
        "# Plot the first X test images, their predicted labels, and the true labels.\n",
        "# Color correct predictions in blue and incorrect predictions in red.\n",
        "num_rows = 5\n",
        "num_cols = 3\n",
        "num_images = num_rows*num_cols\n",
        "plt.figure(figsize=(2*2*num_cols, 2*num_rows))\n",
        "for i in range(num_images):\n",
        "  plt.subplot(num_rows, 2*num_cols, 2*i+1)\n",
        "  plot_image(i, predictions[i], test_labels, test_images)\n",
        "  plt.subplot(num_rows, 2*num_cols, 2*i+2)\n",
        "  plot_value_array(i, predictions[i], test_labels)\n",
        "plt.tight_layout()\n",
        "plt.show()"
      ],
      "metadata": {
        "colab": {
          "base_uri": "https://localhost:8080/",
          "height": 976
        },
        "id": "btC9jfl8LH_M",
        "outputId": "51b31049-2b87-4785-eb74-bb8821fa4106"
      },
      "execution_count": 33,
      "outputs": [
        {
          "output_type": "display_data",
          "data": {
            "text/plain": [
              "<Figure size 1200x1000 with 30 Axes>"
            ],
            "image/png": "[encoded data removed]"
          },
          "metadata": {}
        }
      ]
    },
    {
      "cell_type": "markdown",
      "source": [
        "Como finalización de este modelo de entrenamiento de Red Neuronal Artificial Simple se concluye con una satisfactoria predicción de las imágenes con una alta presición. Podemos seguir graficando más imágenes de prueba para corroborarlas todas, pero al tener una diferencia mínima entre la exactitud del entrenamiento (99.6%) y la exactitud de la prueba (97.9) con lo cual podemos tener la certeza de que ha logrado una buena generalización de la base de datos, haciendo las predicciones acertadas."
      ],
      "metadata": {
        "id": "9Nvwahc5T1ki"
      }
    }
  ]
}