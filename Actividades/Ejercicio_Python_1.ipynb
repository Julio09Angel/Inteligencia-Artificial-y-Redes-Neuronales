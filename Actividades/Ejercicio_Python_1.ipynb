{
  "nbformat": 4,
  "nbformat_minor": 0,
  "metadata": {
    "colab": {
      "provenance": []
    },
    "kernelspec": {
      "name": "python3",
      "display_name": "Python 3"
    },
    "language_info": {
      "name": "python"
    }
  },
  "cells": [
    {
      "cell_type": "markdown",
      "source": [
        "# A2 Ejercicios en Python\n",
        "\n",
        "### Julio Angel Arias Bartolo\n",
        "### 1954467\n",
        "### LMV-N1"
      ],
      "metadata": {
        "id": "av4NXUX1MHAU"
      }
    },
    {
      "cell_type": "markdown",
      "source": [
        "1. Desarrolla un algoritmo que le pida al usuario su nombre y que lo salude con su nombre, excepto si se llama “Ana”, “Juan”, y “Pedro”."
      ],
      "metadata": {
        "id": "AhP55P_8IZ-L"
      }
    },
    {
      "cell_type": "code",
      "execution_count": 1,
      "metadata": {
        "colab": {
          "base_uri": "https://localhost:8080/"
        },
        "id": "yoRDMjaGH3Pu",
        "outputId": "025a5910-cf08-44fb-b983-abb71992239a"
      },
      "outputs": [
        {
          "output_type": "stream",
          "name": "stdout",
          "text": [
            "¡Yo puedo saludarte!\n",
            "\n",
            "¿Cómo te llamas? Juan\n",
            "\n",
            "¡Lo siento! No te quiero saludar Juan\n"
          ]
        }
      ],
      "source": [
        "print(\"¡Yo puedo saludarte!\")\n",
        "name=input(\"\\n¿Cómo te llamas? \")\n",
        "if name==\"Ana\" or name==\"ana\":\n",
        "  print(\"\\n¡Lo siento! No te quiero saludar Ana\")\n",
        "elif name==\"Juan\" or name==\"juan\":\n",
        "  print(\"\\n¡Lo siento! No te quiero saludar Juan\")\n",
        "elif name==\"Pedro\" or name==\"pedro\":\n",
        "  print(\"\\n¡Lo siento! No te quiero saludar Pedro\")\n",
        "else:\n",
        "  print(\"\\n¡Hola {} es un gusto conocerte!\".format(name))"
      ]
    },
    {
      "cell_type": "markdown",
      "source": [
        "2. Desarrolla un algoritmo que por medio de una función, le pida al usuario una lista de N elementos y como resultado invierta el sentido de la lista."
      ],
      "metadata": {
        "id": "7Y7PnCF-I3-2"
      }
    },
    {
      "cell_type": "code",
      "source": [
        "print(\"Podemos crear una lista de hasta 5 elementos.\")\n",
        "print(\"Invertiremos el orden de la lista proporcionada.\")\n",
        "lst=int(input(\"\\n¿Cuántos elementos tendrá la lista? \"))\n",
        "if lst>5:\n",
        "  print(\"\\nEl límite de la lista es de 5 elementos.\")\n",
        "elif lst==0:\n",
        "  print(\"\\nNo se puede tener una lista de 0 elementos.\")\n",
        "elif lst==1:\n",
        "  n0=input(\"\\nÚnico elemento de la lista: \")\n",
        "  lista=[n0]\n",
        "elif lst==2:\n",
        "  n0=input(\"\\nPrimer elemento de la lista: \")\n",
        "  n1=input(\"Segundo elemento de la lista: \")\n",
        "  lista=[n0, n1]\n",
        "elif lst==3:\n",
        "  n0=input(\"\\nPrimer elemento de la lista: \")\n",
        "  n1=input(\"Segundo elemento de la lista: \")\n",
        "  n2=input(\"Tercer elemento de la lista: \")\n",
        "  lista=[n0, n1, n2]\n",
        "elif lst==4:\n",
        "  n0=input(\"\\nPrimer elemento de la lista: \")\n",
        "  n1=input(\"Segundo elemento de la lista: \")\n",
        "  n2=input(\"Tercer elemento de la lista: \")\n",
        "  n3=input(\"Cuarto elemento de la lista: \")\n",
        "  lista=[n0, n1, n2, n3]\n",
        "else:\n",
        "  n0=input(\"\\nPrimer elemento de la lista: \")\n",
        "  n1=input(\"Segundo elemento de la lista: \")\n",
        "  n2=input(\"Tercer elemento de la lista: \")\n",
        "  n3=input(\"Cuarto elemento de la lista: \")\n",
        "  n4=input(\"Quinto elemento de la lista: \")\n",
        "  lista=[n0, n1, n2, n3, n4]\n",
        "\n",
        "n=-1\n",
        "while n>-lst-1:\n",
        "  print(lista[n])\n",
        "  n=n-1"
      ],
      "metadata": {
        "colab": {
          "base_uri": "https://localhost:8080/"
        },
        "id": "z1IKbwwBI7nA",
        "outputId": "abea0ff2-800f-4a5a-9bd6-331367bc8916"
      },
      "execution_count": 2,
      "outputs": [
        {
          "output_type": "stream",
          "name": "stdout",
          "text": [
            "Podemos crear una lista de hasta 5 elementos.\n",
            "Invertiremos el orden de la lista proporcionada.\n",
            "\n",
            "¿Cuántos elementos tendrá la lista? 3\n",
            "\n",
            "Primer elemento de la lista: Laptop\n",
            "Segundo elemento de la lista: Memoria\n",
            "Tercer elemento de la lista: Mouse\n",
            "Mouse\n",
            "Memoria\n",
            "Laptop\n"
          ]
        }
      ]
    },
    {
      "cell_type": "markdown",
      "source": [
        "3. Desarrolla un algoritmo que le pregunte al usuario cuántos números de la serie de Fibonnaci quiere generar y que al final los imprima. "
      ],
      "metadata": {
        "id": "mzqrpVBAJaZR"
      }
    },
    {
      "cell_type": "code",
      "source": [
        "long=int(input(\"¿Cuántos números de la serie de Fibonacci quiere? \"))\n",
        "x=0\n",
        "y=1\n",
        "print(x)\n",
        "print(y)\n",
        "for n in range(long-2):\n",
        "  z=x+y\n",
        "  print(z)\n",
        "  x=y\n",
        "  y=z"
      ],
      "metadata": {
        "colab": {
          "base_uri": "https://localhost:8080/"
        },
        "id": "Q4O_MmYFJdCo",
        "outputId": "dcae0122-3973-4a99-e636-0443076b8aab"
      },
      "execution_count": 3,
      "outputs": [
        {
          "output_type": "stream",
          "name": "stdout",
          "text": [
            "¿Cuántos números de la serie de Fibonacci quiere? 10\n",
            "0\n",
            "1\n",
            "1\n",
            "2\n",
            "3\n",
            "5\n",
            "8\n",
            "13\n",
            "21\n",
            "34\n"
          ]
        }
      ]
    }
  ]
}